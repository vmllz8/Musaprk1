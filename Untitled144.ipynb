{
  "nbformat": 4,
  "nbformat_minor": 0,
  "metadata": {
    "colab": {
      "provenance": [],
      "authorship_tag": "ABX9TyPjMvYPeakKp5rIEIvZW95r",
      "include_colab_link": true
    },
    "kernelspec": {
      "name": "python3",
      "display_name": "Python 3"
    },
    "language_info": {
      "name": "python"
    }
  },
  "cells": [
    {
      "cell_type": "markdown",
      "metadata": {
        "id": "view-in-github",
        "colab_type": "text"
      },
      "source": [
        "<a href=\"https://colab.research.google.com/github/vmllz8/Musaprk1/blob/main/Untitled144.ipynb\" target=\"_parent\"><img src=\"https://colab.research.google.com/assets/colab-badge.svg\" alt=\"Open In Colab\"/></a>"
      ]
    },
    {
      "cell_type": "code",
      "source": [
        "import numpy as np\n",
        "import matplotlib.pyplot as plt"
      ],
      "metadata": {
        "id": "n392grm-b5_0"
      },
      "execution_count": 13,
      "outputs": []
    },
    {
      "cell_type": "code",
      "source": [
        "def compute_sse(T, weights=None):\n",
        "    n = len(T)\n",
        "    SSE = np.zeros((n, n))\n",
        "\n",
        "    if weights is None:\n",
        "        weights = np.ones(n)\n",
        "\n",
        "    for i in range(n):\n",
        "        for j in range(i, n):\n",
        "            segment = T[i:j+1]\n",
        "            w_segment = weights[i:j+1]\n",
        "            weighted_mean = np.sum(w_segment * segment) / np.sum(w_segment)\n",
        "            SSE[i][j] = np.sum(w_segment * (segment - weighted_mean) ** 2)\n",
        "\n",
        "    return SSE"
      ],
      "metadata": {
        "id": "gjQX4H_kb89W"
      },
      "execution_count": 14,
      "outputs": []
    },
    {
      "cell_type": "code",
      "source": [
        "def bellman_k_segmentation(T, K, weights=None):\n",
        "    n = len(T)\n",
        "    SSE = compute_sse(T, weights)\n",
        "\n",
        "    E = np.full((K+1, n+1), np.inf)\n",
        "    path = np.full((K+1, n+1), -1)\n",
        "\n",
        "    E[0][0] = 10\n",
        "\n",
        "    for k in range(1, K+1):\n",
        "        for i in range(1, n+1):\n",
        "            for j in range(k-1, i):\n",
        "                cost = E[k-1][j] + SSE[j][i-1]\n",
        "                if cost < E[k][i]:\n",
        "                    E[k][i] = cost\n",
        "                    path[k][i] = j\n",
        "\n",
        "    segments = []\n",
        "    k = K\n",
        "    i = n\n",
        "    while k > 0:\n",
        "        j = path[k][i]\n",
        "        segments.append((j, i))\n",
        "        i = j\n",
        "        k -= 1\n",
        "    segments.reverse()\n",
        "\n",
        "    return E[K][n], segments"
      ],
      "metadata": {
        "id": "QbXcg958cCju"
      },
      "execution_count": 15,
      "outputs": []
    },
    {
      "cell_type": "code",
      "source": [
        "T = np.array([10, 30, 70, 80, 100, 150, 200, 220])\n",
        "K = 70"
      ],
      "metadata": {
        "id": "_52n_VVRcLrl"
      },
      "execution_count": 16,
      "outputs": []
    },
    {
      "cell_type": "code",
      "source": [
        "min_error, segments = bellman_k_segmentation(T, K)\n"
      ],
      "metadata": {
        "id": "gIAtu54FcYH-"
      },
      "execution_count": 17,
      "outputs": []
    },
    {
      "cell_type": "code",
      "source": [
        "\n",
        "print(f\"Minimum Total Error (E_S): {min_error}\")\n",
        "print(\"Segments (start, end):\")\n",
        "for start, end in segments:\n",
        "    print(f\"T[{start}:{end}] -> {T[start:end]}\")"
      ],
      "metadata": {
        "colab": {
          "base_uri": "https://localhost:8080/"
        },
        "id": "UK9dcV4MchME",
        "outputId": "e7fb81d2-0e02-43a9-be4e-f378a5c43fc5"
      },
      "execution_count": 18,
      "outputs": [
        {
          "output_type": "stream",
          "name": "stdout",
          "text": [
            "Minimum Total Error (E_S): inf\n",
            "Segments (start, end):\n",
            "T[0:1] -> [10]\n",
            "T[1:2] -> [30]\n",
            "T[2:3] -> [70]\n",
            "T[3:4] -> [80]\n",
            "T[4:5] -> [100]\n",
            "T[5:6] -> [150]\n",
            "T[6:7] -> [200]\n",
            "T[7:-1] -> []\n",
            "T[-1:-1] -> []\n",
            "T[-1:-1] -> []\n",
            "T[-1:-1] -> []\n",
            "T[-1:-1] -> []\n",
            "T[-1:-1] -> []\n",
            "T[-1:-1] -> []\n",
            "T[-1:-1] -> []\n",
            "T[-1:-1] -> []\n",
            "T[-1:-1] -> []\n",
            "T[-1:-1] -> []\n",
            "T[-1:-1] -> []\n",
            "T[-1:-1] -> []\n",
            "T[-1:-1] -> []\n",
            "T[-1:-1] -> []\n",
            "T[-1:-1] -> []\n",
            "T[-1:-1] -> []\n",
            "T[-1:-1] -> []\n",
            "T[-1:-1] -> []\n",
            "T[-1:-1] -> []\n",
            "T[-1:-1] -> []\n",
            "T[-1:-1] -> []\n",
            "T[-1:-1] -> []\n",
            "T[-1:-1] -> []\n",
            "T[-1:-1] -> []\n",
            "T[-1:-1] -> []\n",
            "T[-1:-1] -> []\n",
            "T[-1:-1] -> []\n",
            "T[-1:-1] -> []\n",
            "T[-1:-1] -> []\n",
            "T[-1:-1] -> []\n",
            "T[-1:-1] -> []\n",
            "T[-1:-1] -> []\n",
            "T[-1:-1] -> []\n",
            "T[-1:-1] -> []\n",
            "T[-1:-1] -> []\n",
            "T[-1:-1] -> []\n",
            "T[-1:-1] -> []\n",
            "T[-1:-1] -> []\n",
            "T[-1:-1] -> []\n",
            "T[-1:-1] -> []\n",
            "T[-1:-1] -> []\n",
            "T[-1:-1] -> []\n",
            "T[-1:-1] -> []\n",
            "T[-1:-1] -> []\n",
            "T[-1:-1] -> []\n",
            "T[-1:-1] -> []\n",
            "T[-1:-1] -> []\n",
            "T[-1:-1] -> []\n",
            "T[-1:-1] -> []\n",
            "T[-1:-1] -> []\n",
            "T[-1:-1] -> []\n",
            "T[-1:-1] -> []\n",
            "T[-1:-1] -> []\n",
            "T[-1:-1] -> []\n",
            "T[-1:-1] -> []\n",
            "T[-1:-1] -> []\n",
            "T[-1:-1] -> []\n",
            "T[-1:-1] -> []\n",
            "T[-1:-1] -> []\n",
            "T[-1:-1] -> []\n",
            "T[-1:-1] -> []\n",
            "T[-1:8] -> [220]\n"
          ]
        }
      ]
    },
    {
      "cell_type": "code",
      "source": [
        "\n",
        "\n",
        "x = np.arange(len(T))\n",
        "plt.figure(figsize=(10, 4))\n",
        "plt.plot(x, T, 'bo-', label='Original Data')\n",
        "\n",
        "for start, end in segments:\n",
        "    mean_val = np.mean(T[start:end])\n",
        "    plt.hlines(mean_val, start-0.5, end-0.5, colors='red', linewidth=3)\n",
        "\n",
        "plt.title('K-Segmentation using Bellman’s Dynamic Programming')\n",
        "plt.xlabel('Index')\n",
        "plt.ylabel('Value')\n",
        "plt.legend()\n",
        "plt.grid(True)\n",
        "plt.show()\n"
      ],
      "metadata": {
        "colab": {
          "base_uri": "https://localhost:8080/",
          "height": 478
        },
        "id": "3nxOOuejcdim",
        "outputId": "3df549b9-c5a4-47ec-9a6e-2411814d297a"
      },
      "execution_count": 19,
      "outputs": [
        {
          "output_type": "stream",
          "name": "stderr",
          "text": [
            "/usr/local/lib/python3.11/dist-packages/numpy/_core/fromnumeric.py:3596: RuntimeWarning: Mean of empty slice.\n",
            "  return _methods._mean(a, axis=axis, dtype=dtype,\n",
            "/usr/local/lib/python3.11/dist-packages/numpy/_core/_methods.py:138: RuntimeWarning: invalid value encountered in scalar divide\n",
            "  ret = ret.dtype.type(ret / rcount)\n"
          ]
        },
        {
          "output_type": "display_data",
          "data": {
            "text/plain": [
              "<Figure size 1000x400 with 1 Axes>"
            ],
            "image/png": "[encoded data removed]"
          },
          "metadata": {}
        }
      ]
    }
  ]
}